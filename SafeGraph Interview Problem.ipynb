{
 "cells": [
  {
   "cell_type": "markdown",
   "id": "0007cd2b",
   "metadata": {},
   "source": [
    "# SafeGraph Interview Problem\n",
    "\n",
    "## About\n",
    "SafeGraph provided three questions as part of the hiring process for a Technical Product Manager. Below are my answers for the three questions.\n",
    "\n",
    "You can view a pdf of the questions [here](https://github.com/bootstrapt/safegraph-practice-problems/blob/main/Technical_Product_Manager_API_Written_Interview.pdf).\n",
    "\n",
    "Viewing notebook:\n",
    "- Source: [github](https://github.com/bootstrapt/safegraph-practice-problems)\n",
    "- Notebook w/ code (and : [github](https://github.com/bootstrapt/safegraph-practice-problems/blob/main/SafeGraph%20Interview%20Problem.ipynb)\n",
    "- Notebook w/o code (just output): [github pages](https://bootstrapt.github.io/safegraph-practice-problems/)\n",
    "\n",
    "## Table of Contents\n",
    "- [Prerequisites](#Prerequisites)\n",
    "- [Question 1](#Question-1)\n",
    "- [Question 2](#Question-2)\n",
    "- [Question 3](#Question-3)"
   ]
  },
  {
   "cell_type": "markdown",
   "id": "61796a04",
   "metadata": {},
   "source": [
    "## Prerequisites\n",
    "Load and initialize notebook extensions, install R packages as needed, and load dependencies and setup globals."
   ]
  },
  {
   "cell_type": "code",
   "execution_count": 1,
   "id": "cb4ecc27",
   "metadata": {},
   "outputs": [
    {
     "name": "stdout",
     "output_type": "stream",
     "text": [
      "✔ Extensions loaded\n"
     ]
    }
   ],
   "source": [
    "# load extensions (once per session)\n",
    "%load_ext dotenv\n",
    "%load_ext rpy2.ipython\n",
    "print('✔ Extensions loaded')"
   ]
  },
  {
   "cell_type": "code",
   "execution_count": 2,
   "id": "0a7786ba",
   "metadata": {},
   "outputs": [
    {
     "name": "stdout",
     "output_type": "stream",
     "text": [
      "✔ dotenv initialized\n"
     ]
    }
   ],
   "source": [
    "# initialize dotenv\n",
    "%dotenv\n",
    "print('✔ dotenv initialized')"
   ]
  },
  {
   "cell_type": "code",
   "execution_count": 3,
   "id": "8e1cbc9e",
   "metadata": {},
   "outputs": [
    {
     "name": "stdout",
     "output_type": "stream",
     "text": [
      "✔ R packages installed\n"
     ]
    }
   ],
   "source": [
    "# install R packages, if missing\n",
    "%R if (!require(\"ggplot2\", quiet=TRUE)) install.packages(\"ggplot2\", repos='http://cran.us.r-project.org', quiet=TRUE)\n",
    "%R if (!require(\"httr\", quiet=TRUE)) install.packages(\"httr\", quiet=TRUE)\n",
    "%R if (!require(\"jsonlite\", quiet=TRUE)) install.packages(\"jsonlite\", quiet=TRUE)\n",
    "print('✔ R packages installed')"
   ]
  },
  {
   "cell_type": "code",
   "execution_count": 4,
   "id": "90bc70e7",
   "metadata": {},
   "outputs": [
    {
     "name": "stdout",
     "output_type": "stream",
     "text": [
      "✔ python dependencies loaded\n"
     ]
    }
   ],
   "source": [
    "# load packages and setup globals\n",
    "\n",
    "## load environment variables\n",
    "from os import environ\n",
    "SAFEGRAPH_KEY = environ.get('SAFEGRAPH_KEY')\n",
    "\n",
    "## setup safegraph client from their official docs\n",
    "import safegraphql.client as sgql\n",
    "SAFEGRAPH_CLIENT = sgql.HTTP_Client(apikey = SAFEGRAPH_KEY)\n",
    "SAFEGRAPH_URL = 'https://api.safegraph.com/v1/graphql'\n",
    "\n",
    "## handling http requests\n",
    "import requests\n",
    "import json\n",
    "\n",
    "## for pretty json output\n",
    "from pprint import pprint\n",
    "\n",
    "print('✔ python dependencies loaded')"
   ]
  },
  {
   "cell_type": "markdown",
   "id": "4cc8fc92",
   "metadata": {},
   "source": [
    "## Question 1 \n",
    "\n",
    "### Question\n",
    "You are going to launch a new API meant for data science users and you want to have at least one client library ready at launch. Do you build a client in R, Python or both? How do you decide?\n",
    "\n",
    "### Answer\n",
    "That depends on the expected behavior and knowledge of the user base.\n",
    "\n",
    "Initially I had these questions:\n",
    "1. What percentage is expected to use R vs Python? \n",
    "    1. We should be able to put together an estimate with current usage data and the expected profile of the new API users. \n",
    "    2. If they are the same, then which group uses any current client libraries vs raw API calls?\n",
    "2. Do more R users know Python or the other way around? \n",
    "    1. If there is more familiarity with one over the other, the language with the most reach should be favored.\n",
    "3.  What are the common use cases?\n",
    "    1. If they are mostly basic data retrieval, it might make sense to roll out MVP in both that supports commonly used GET requests.\n",
    "4. What are the major friction points?\n",
    "    1. Usually things like auth, batching, pagination, etc. Removing friction should be the top priority.\n",
    "    \n",
    "Eventually I decided to just implement a basic call myself. I tried the query used in the cURL version of the directions, but something about the JSON encoding wasn't working correctly. I saw that the query in the cURL example looked like a serialized version of the GraphQL query, so I tried using the GraphQL query as a multiline string while using Python's standard json library to convert (see [FIG 1A](#Figure-1A:-Basic-SafeGraph-API-request-in-Python)). Success! I also implemented it using the provided Python client library  (see [FIG 1B](#Figure-1B:-Basic-SafeGraph-API-request-using-official-Python-client-library)). And I implemented it in R, cheating a bit by reusing the query string generated by Python (see [FIG 1C](#Figure-1C:-Basic-SafeGraph-API-request-in-R)). None of the responses were exactly the same, but the data itself matched in all three cases!\n",
    "\n",
    "Given what I know, I would still want the answers to the above questions, but now I would err towards having a more complete solution in one of the given languages. Authorization isn't too hard so if we can't get a client libary out in time, we should be able to produce docs with common use cases for the other language. I have never used R before and figured out a basic API call in less than an hour."
   ]
  },
  {
   "cell_type": "markdown",
   "id": "8e18ede9",
   "metadata": {},
   "source": [
    "#### Figure 1A: Basic SafeGraph API request in Python\n",
    "Based on the `cURL` version of the [docs](https://docs.safegraph.com/reference#lookup-placekey). It uses Python to encode the query string. Authorization handled with a simple header. "
   ]
  },
  {
   "cell_type": "code",
   "execution_count": 5,
   "id": "d4d287a7",
   "metadata": {},
   "outputs": [
    {
     "name": "stdout",
     "output_type": "stream",
     "text": [
      "{'data': {'lookup': {'safegraph_core': {'brands': [{'brand_id': 'SG_BRAND_f116acfe9147494063e58da666d1d57e',\n",
      "                                                    'brand_name': 'starbucks '\n",
      "                                                                  'coffee'}],\n",
      "                                        'category_tags': ['Snacks',\n",
      "                                                          'Counter Service',\n",
      "                                                          'Dessert',\n",
      "                                                          'Tea House',\n",
      "                                                          'Coffee Shop',\n",
      "                                                          'Bakery'],\n",
      "                                        'city': 'San Francisco',\n",
      "                                        'closed_on': None,\n",
      "                                        'geometry_type': 'POLYGON',\n",
      "                                        'iso_country_code': 'US',\n",
      "                                        'latitude': 37.769035,\n",
      "                                        'location_name': 'Starbucks',\n",
      "                                        'longitude': -122.42775,\n",
      "                                        'naics_code': 722515,\n",
      "                                        'open_hours': '{ \"Mon\": [[\"5:30\", '\n",
      "                                                      '\"19:30\"]], \"Tue\": '\n",
      "                                                      '[[\"5:30\", \"19:30\"]], '\n",
      "                                                      '\"Wed\": [[\"5:30\", '\n",
      "                                                      '\"19:30\"]], \"Thu\": '\n",
      "                                                      '[[\"5:30\", \"19:30\"]], '\n",
      "                                                      '\"Fri\": [[\"5:30\", '\n",
      "                                                      '\"19:30\"]], \"Sat\": '\n",
      "                                                      '[[\"5:30\", \"19:30\"]], '\n",
      "                                                      '\"Sun\": [[\"5:30\", '\n",
      "                                                      '\"19:30\"]] }',\n",
      "                                        'opened_on': None,\n",
      "                                        'parent_placekey': '222-226@5vg-7gr-6kz',\n",
      "                                        'phone_number': None,\n",
      "                                        'placekey': '222-224@5vg-7gr-6kz',\n",
      "                                        'postal_code': '94114',\n",
      "                                        'region': 'CA',\n",
      "                                        'safegraph_brand_ids': 'SG_BRAND_f116acfe9147494063e58da666d1d57e',\n",
      "                                        'street_address': '2020 Market St',\n",
      "                                        'sub_category': 'Snack and '\n",
      "                                                        'Nonalcoholic Beverage '\n",
      "                                                        'Bars',\n",
      "                                        'top_category': 'Restaurants and Other '\n",
      "                                                        'Eating Places',\n",
      "                                        'tracking_closed_since': '2019-07-01'}}},\n",
      " 'extensions': {'row_count': 1, 'version_date': '1630442778__2021_08'}}\n"
     ]
    }
   ],
   "source": [
    "# FIG 1A: Basic SafeGraph API request in Python\n",
    "\n",
    "querystring = '''\n",
    "query {\n",
    "  lookup(placekey: \"222-224@5vg-7gr-6kz\") {\n",
    "    safegraph_core {\n",
    "      placekey\n",
    "      latitude\n",
    "      longitude\n",
    "      street_address\n",
    "      city\n",
    "      region\n",
    "      postal_code\n",
    "      iso_country_code\n",
    "      parent_placekey\n",
    "      location_name\n",
    "      safegraph_brand_ids\n",
    "      brands {\n",
    "        brand_id\n",
    "        brand_name\n",
    "      }\n",
    "      top_category\n",
    "      sub_category\n",
    "      naics_code\n",
    "      phone_number\n",
    "      open_hours\n",
    "      category_tags\n",
    "      opened_on\n",
    "      closed_on\n",
    "      tracking_closed_since\n",
    "      geometry_type\n",
    "    }\n",
    "  }\n",
    "}'''\n",
    "payload = {'query': querystring}\n",
    "payload_enc = json.dumps(payload)\n",
    "headers = {\n",
    "    'apikey': SAFEGRAPH_KEY,\n",
    "    'content-type': 'application/json'\n",
    "}\n",
    "response = requests.request('POST', \n",
    "                            SAFEGRAPH_URL,\n",
    "                            headers=headers,\n",
    "                            data=payload_enc)\n",
    "pprint(response.json())"
   ]
  },
  {
   "cell_type": "markdown",
   "id": "14c53067",
   "metadata": {},
   "source": [
    "#### Figure 1B: Basic SafeGraph API request using official Python client library\n",
    "Based on the `python` version of the [docs](https://docs.safegraph.com/reference#lookup-placekey). "
   ]
  },
  {
   "cell_type": "code",
   "execution_count": 6,
   "id": "5c290299",
   "metadata": {},
   "outputs": [
    {
     "name": "stdout",
     "output_type": "stream",
     "text": [
      "{'brands': {0: [{'brand_id': 'SG_BRAND_f116acfe9147494063e58da666d1d57e',\n",
      "                 'brand_name': 'starbucks coffee'}]},\n",
      " 'category_tags': {0: ['Snacks',\n",
      "                       'Counter Service',\n",
      "                       'Dessert',\n",
      "                       'Tea House',\n",
      "                       'Coffee Shop',\n",
      "                       'Bakery']},\n",
      " 'city': {0: 'San Francisco'},\n",
      " 'closed_on': {0: None},\n",
      " 'geometry_type': {0: 'POLYGON'},\n",
      " 'iso_country_code': {0: 'US'},\n",
      " 'latitude': {0: 37.769035},\n",
      " 'location_name': {0: 'Starbucks'},\n",
      " 'longitude': {0: -122.42775},\n",
      " 'naics_code': {0: 722515},\n",
      " 'open_hours': {0: '{ \"Mon\": [[\"5:30\", \"19:30\"]], \"Tue\": [[\"5:30\", \"19:30\"]], '\n",
      "                   '\"Wed\": [[\"5:30\", \"19:30\"]], \"Thu\": [[\"5:30\", \"19:30\"]], '\n",
      "                   '\"Fri\": [[\"5:30\", \"19:30\"]], \"Sat\": [[\"5:30\", \"19:30\"]], '\n",
      "                   '\"Sun\": [[\"5:30\", \"19:30\"]] }'},\n",
      " 'opened_on': {0: None},\n",
      " 'parent_placekey': {0: '222-226@5vg-7gr-6kz'},\n",
      " 'phone_number': {0: None},\n",
      " 'placekey': {0: '222-224@5vg-7gr-6kz'},\n",
      " 'postal_code': {0: '94114'},\n",
      " 'region': {0: 'CA'},\n",
      " 'safegraph_brand_ids': {0: 'SG_BRAND_f116acfe9147494063e58da666d1d57e'},\n",
      " 'street_address': {0: '2020 Market St'},\n",
      " 'sub_category': {0: 'Snack and Nonalcoholic Beverage Bars'},\n",
      " 'top_category': {0: 'Restaurants and Other Eating Places'},\n",
      " 'tracking_closed_since': {0: '2019-07-01'}}\n"
     ]
    }
   ],
   "source": [
    "# FIG 1B: Basic SafeGraph API request using official Python client library\n",
    "\n",
    "cols = [\n",
    "    'latitude',\n",
    "    'longitude',\n",
    "    'street_address',\n",
    "    'city',\n",
    "    'region',\n",
    "    'postal_code',\n",
    "    'iso_country_code',\n",
    "    'parent_placekey',\n",
    "    'location_name',\n",
    "    'safegraph_brand_ids',\n",
    "    'brands',\n",
    "    'top_category',\n",
    "    'sub_category',\n",
    "    'naics_code',\n",
    "    'phone_number',\n",
    "    'open_hours',\n",
    "    'category_tags',\n",
    "    'opened_on',\n",
    "    'closed_on',\n",
    "    'tracking_closed_since',\n",
    "    'geometry_type',\n",
    "]\n",
    "space_needle = SAFEGRAPH_CLIENT.lookup(product   = 'core', \n",
    "                                       placekeys = '222-224@5vg-7gr-6kz', \n",
    "                                       columns   = cols)\n",
    "pprint(space_needle.to_dict())"
   ]
  },
  {
   "cell_type": "markdown",
   "id": "454f42ed",
   "metadata": {},
   "source": [
    "#### Figure 1C: Basic SafeGraph API request in R\n",
    "Based on the `python` and `cURL` versions of the [docs](https://docs.safegraph.com/reference#lookup-placekey). Since the payload encoded and serialized by Python already works, I just pass that in along with my API key. I then use R's `httr` package to form a valid request"
   ]
  },
  {
   "cell_type": "code",
   "execution_count": 7,
   "id": "a00611dd",
   "metadata": {},
   "outputs": [
    {
     "name": "stdout",
     "output_type": "stream",
     "text": [
      "List of 2\n",
      " $ data      :List of 1\n",
      "  ..$ lookup:List of 1\n",
      "  .. ..$ safegraph_core:List of 22\n",
      "  .. .. ..$ placekey             : chr \"222-224@5vg-7gr-6kz\"\n",
      "  .. .. ..$ latitude             : num 37.8\n",
      "  .. .. ..$ longitude            : num -122\n",
      "  .. .. ..$ street_address       : chr \"2020 Market St\"\n",
      "  .. .. ..$ city                 : chr \"San Francisco\"\n",
      "  .. .. ..$ region               : chr \"CA\"\n",
      "  .. .. ..$ postal_code          : chr \"94114\"\n",
      "  .. .. ..$ iso_country_code     : chr \"US\"\n",
      "  .. .. ..$ parent_placekey      : chr \"222-226@5vg-7gr-6kz\"\n",
      "  .. .. ..$ location_name        : chr \"Starbucks\"\n",
      "  .. .. ..$ safegraph_brand_ids  : chr \"SG_BRAND_f116acfe9147494063e58da666d1d57e\"\n",
      "  .. .. ..$ brands               :List of 1\n",
      "  .. .. .. ..$ :List of 2\n",
      "  .. .. .. .. ..$ brand_id  : chr \"SG_BRAND_f116acfe9147494063e58da666d1d57e\"\n",
      "  .. .. .. .. ..$ brand_name: chr \"starbucks coffee\"\n",
      "  .. .. ..$ top_category         : chr \"Restaurants and Other Eating Places\"\n",
      "  .. .. ..$ sub_category         : chr \"Snack and Nonalcoholic Beverage Bars\"\n",
      "  .. .. ..$ naics_code           : int 722515\n",
      "  .. .. ..$ phone_number         : NULL\n",
      "  .. .. ..$ open_hours           : chr \"{ \\\"Mon\\\": [[\\\"5:30\\\", \\\"19:30\\\"]], \\\"Tue\\\": [[\\\"5:30\\\", \\\"19:30\\\"]], \\\"Wed\\\": [[\\\"5:30\\\", \\\"19:30\\\"]], \\\"Thu\\\"\"| __truncated__\n",
      "  .. .. ..$ category_tags        :List of 6\n",
      "  .. .. .. ..$ : chr \"Snacks\"\n",
      "  .. .. .. ..$ : chr \"Counter Service\"\n",
      "  .. .. .. ..$ : chr \"Dessert\"\n",
      "  .. .. .. ..$ : chr \"Tea House\"\n",
      "  .. .. .. ..$ : chr \"Coffee Shop\"\n",
      "  .. .. .. ..$ : chr \"Bakery\"\n",
      "  .. .. ..$ opened_on            : NULL\n",
      "  .. .. ..$ closed_on            : NULL\n",
      "  .. .. ..$ tracking_closed_since: chr \"2019-07-01\"\n",
      "  .. .. ..$ geometry_type        : chr \"POLYGON\"\n",
      " $ extensions:List of 2\n",
      "  ..$ row_count   : int 1\n",
      "  ..$ version_date: chr \"1630442778__2021_08\"\n"
     ]
    }
   ],
   "source": [
    "%%R -i SAFEGRAPH_KEY -i payload_enc\n",
    "\n",
    "# FIG 1C: Basic SafeGraph API request in R\n",
    "\n",
    "library(httr)\n",
    "\n",
    "r <- POST('https://api.safegraph.com/v1/graphql',\n",
    "          add_headers('apikey'=SAFEGRAPH_KEY, \n",
    "                      'content-type'='application/json'),\n",
    "          body = payload_enc,\n",
    "          encode = 'json')\n",
    "r\n",
    "str(content(r, 'parsed'))"
   ]
  },
  {
   "cell_type": "markdown",
   "id": "44fe1473",
   "metadata": {},
   "source": [
    "## Question 2\n",
    "\n",
    "### Question\n",
    "In the first iteration of an API, the engineer creates a response that looks like this:\n",
    "![payload%20snippet.png](img/payload_snippet.png)\n",
    "You notice that there is both a “safegraph_brand_ids” field and a “brands” field. Do you keep both? If not, which one do you keep? How do you decide?\n",
    "\n",
    "### Answer\n",
    "> “Don't ever take a fence down until you know the reason it was put up.”  \n",
    "> ― G. K. Chesterton\n",
    "\n",
    "Again, my approach would be to gather a little more data before making a decision. Below I outline my thinking and approach.\n",
    "\n",
    "Main questions:\n",
    "1. What are the use cases the developer believes they were solving? Are there other ways to solve it that save us complexity?\n",
    "    1. I.e. if it’s an index, the customer can compute those. Or maybe store a list of tuples. Or as a dict where the key is the brand name and the value is the id (or vice versa if brand name is not unique).\n",
    "2. What is the ongoing maintenance cost of including both vs one?\n",
    "    1. If it’s just a convenience, but it’s cheap and helps with overall satisfaction (and therefore retention and likelihood for additional sales / upsales) then we might as well keep it.\n",
    "\n",
    "It looks like this is based on actual data, given the response above. So we should have some users we can talk to, who uses it for what and what does it cost us? Based on those answers we can either: sunset the redundant data with clear docs on other patterns that can solve the same problems -or- keep them both but update the docs with clear use cases and what to do if the data ever doesn't match."
   ]
  },
  {
   "cell_type": "markdown",
   "id": "ae51a4d6",
   "metadata": {},
   "source": [
    "## Question 3\n",
    "\n",
    "### Question\n",
    "How would you improve this example code snippet in the docs?\n",
    "![code%20snippet.png](img/code_snippet.png)\n",
    "\n",
    "### Answer\n",
    "In order to understand the code a little better, I decided to implement it.\n",
    "\n",
    "Notes:  \n",
    "- As written the code does not work, the payload string was cut off in the screenshot ([see FIG 3A](#Figure-3A:-As-written))\n",
    "- Luckily, it looks like the same string is used in the `cURL` instructions of the docs. But still, we get an error when parsing the payload ([see FIG 3B](#Figure-3B:-Corrected-payload-string))\n",
    "- We were able to construct a valid query earlier, let's try that method. This time we will use the `Graph QL` portion of the docs ([see FIG 3C](#Figure-3C:-Updating-payload-to-known-good-pattern))\n",
    "- That works! Let's use the official python API to validate the results. Looks good! ([see FIG 3D](#Figure-3D:-Checking-our-work))\n",
    "\n",
    "To improve the example snippet ([see FIG 3C](#Figure-3C:-Updating-payload-to-known-good-pattern)):\n",
    "1. fix the payload using the multiline GraphQL query string literal\n",
    "2. explicitly use `json.dumps()` to encode the string literal\n",
    "3. use `response.json()` instead of `response.text` (or use `json.loads(response.text)`)  \n",
    "\n",
    "Taking the steps above will make the example snippet functional, easier to maintain, and more usable. \n",
    "- Functional because the request now works\n",
    "- Easier to maintain because the query is now readable\n",
    "- More usable because we're outputting a python dict\n",
    "\n",
    "Ideally we would not be using string literals to build queries. Debugging can be a pain, which is why I opted for trying a workaround first."
   ]
  },
  {
   "cell_type": "markdown",
   "id": "fde3ce37",
   "metadata": {},
   "source": [
    "#### Figure 3A: As written\n",
    "As written, the snippet doesn't work. The payload line was truncated in the screenshot, giving us the error:"
   ]
  },
  {
   "cell_type": "code",
   "execution_count": 8,
   "id": "981fc555",
   "metadata": {
    "scrolled": true
   },
   "outputs": [
    {
     "name": "stdout",
     "output_type": "stream",
     "text": [
      "{\"error\":\"Invalid JSON\"}\n"
     ]
    }
   ],
   "source": [
    "# FIG 3A: As written\n",
    "\n",
    "import requests\n",
    "import json\n",
    "\n",
    "url = 'https://api.safegraph.com/v1/graphql'\n",
    "\n",
    "payload=\"{\\\"query\\\":\\\"query {\\\\n\\\\tlookup(query: {\\\\n\\\\t\\\\tlocation_name: \\\\\\\"Taco Bell\\\\\\\", \\\\n\\\\t\\\\tstreet_address: \\\\\\\"710\"\n",
    "headers = {\n",
    "    'apikey': SAFEGRAPH_KEY,\n",
    "    'content-type': 'application/json'\n",
    "}\n",
    "\n",
    "response = requests.request('POST', url, headers=headers, data=payload)\n",
    "\n",
    "print(response.text)"
   ]
  },
  {
   "cell_type": "markdown",
   "id": "4a8f0e9e",
   "metadata": {},
   "source": [
    "#### Figure 3B: Corrected payload string\n",
    "In order to send the correct payload, I will replace the one in the screenshot with one from the [docs](https://docs.safegraph.com/reference#lookup-name-address). The string looked suspiciously like the same one in the `cURL` version of the directions, so we can try that.\n",
    "\n",
    "Still we get an error saying the JSON is invalid."
   ]
  },
  {
   "cell_type": "code",
   "execution_count": 9,
   "id": "9db3f14b",
   "metadata": {
    "scrolled": true
   },
   "outputs": [
    {
     "name": "stdout",
     "output_type": "stream",
     "text": [
      "{'error': 'Invalid JSON'}\n"
     ]
    }
   ],
   "source": [
    "# FIG 3B: Corrected payload string\n",
    "\n",
    "payload = '{\"query\":\"query {\\n\\tlookup(query: {\\n\\t\\t\\tlocation_name: \\\"Taco Bell\\\", \\n\\t\\t\\tstreet_address: \\\"710 3rd St\\\", \\n\\t\\t\\tcity: \\\"San Francisco\\\", \\n\\t\\t\\tregion: \\\"CA\\\", \\n\\t\\t\\tiso_country_code: \\\"US\\\"\\n\\t\\t}) { \\n\\t\\tplacekey \\n\\t\\tsafegraph_core {\\n\\t\\t\\tlocation_name\\n\\t\\t\\tstreet_address\\n\\t\\t\\tpostal_code\\n\\t\\t\\tphone_number\\n\\t\\t\\tcategory_tags\\n\\t\\t}\\n\\t}\\n}\",\"variables\":{}}'\n",
    "headers = {\n",
    "    'apikey': SAFEGRAPH_KEY,\n",
    "    'content-type': 'application/json'\n",
    "}\n",
    "\n",
    "response = requests.request('POST', SAFEGRAPH_URL, headers=headers, data=payload)\n",
    "\n",
    "pprint(response.json())"
   ]
  },
  {
   "cell_type": "markdown",
   "id": "f5a26660",
   "metadata": {},
   "source": [
    "#### Figure 3C: Updating payload to known good pattern\n",
    "Above we were able to make an API request using the GraphQL example as a multiline string. This time, we use the text from the `GraphQL` portion of the same [docs](https://docs.safegraph.com/reference#lookup-name-address).\n",
    "\n",
    "Looks like it works!"
   ]
  },
  {
   "cell_type": "code",
   "execution_count": 10,
   "id": "3f594660",
   "metadata": {},
   "outputs": [
    {
     "name": "stdout",
     "output_type": "stream",
     "text": [
      "{'data': {'lookup': {'placekey': '224-222@5vg-7gv-d7q',\n",
      "                     'safegraph_core': {'category_tags': ['Counter Service',\n",
      "                                                          'Late Night',\n",
      "                                                          'Lunch',\n",
      "                                                          'Fast Food',\n",
      "                                                          'Drive Through',\n",
      "                                                          'Breakfast',\n",
      "                                                          'Mexican Food',\n",
      "                                                          'Dinner'],\n",
      "                                        'location_name': 'Taco Bell',\n",
      "                                        'phone_number': '+14159791587',\n",
      "                                        'postal_code': '94107',\n",
      "                                        'street_address': '710 3rd St'}}},\n",
      " 'extensions': {'row_count': 1, 'version_date': '1630442778__2021_08'}}\n"
     ]
    }
   ],
   "source": [
    "# FIG 3C: Updating payload to known good pattern\n",
    "\n",
    "querystring = '''\n",
    "query {\n",
    "  lookup(\n",
    "    query: {\n",
    "      location_name: \"Taco Bell\"\n",
    "      street_address: \"710 3rd St\"\n",
    "      city: \"San Francisco\"\n",
    "      region: \"CA\"\n",
    "      iso_country_code: \"US\"\n",
    "    }\n",
    "  ) {\n",
    "    placekey\n",
    "    safegraph_core {\n",
    "      location_name\n",
    "      street_address\n",
    "      postal_code\n",
    "      phone_number\n",
    "      category_tags\n",
    "    }\n",
    "  }\n",
    "}'''\n",
    "payload = {'query': querystring}\n",
    "payload_enc= json.dumps(payload)\n",
    "headers = {\n",
    "    'apikey': SAFEGRAPH_KEY,\n",
    "    'content-type': 'application/json'\n",
    "}\n",
    "response = requests.request('POST', SAFEGRAPH_URL, headers=headers, data=payload_enc)\n",
    "pprint(response.json())"
   ]
  },
  {
   "cell_type": "markdown",
   "id": "0ad6559b",
   "metadata": {},
   "source": [
    "#### Figure 3D: Checking our work\n",
    "Let's check the response against the same query sent using the `python` section of the [docs](https://docs.safegraph.com/reference#lookup-name-address). \n",
    "\n",
    "The formatting is a little different, but the data itself looks correct!"
   ]
  },
  {
   "cell_type": "code",
   "execution_count": 11,
   "id": "91999a44",
   "metadata": {},
   "outputs": [
    {
     "name": "stdout",
     "output_type": "stream",
     "text": [
      "{'category_tags': {0: ['Counter Service',\n",
      "                       'Late Night',\n",
      "                       'Lunch',\n",
      "                       'Fast Food',\n",
      "                       'Drive Through',\n",
      "                       'Breakfast',\n",
      "                       'Mexican Food',\n",
      "                       'Dinner']},\n",
      " 'location_name': {0: 'Taco Bell'},\n",
      " 'phone_number': {0: '+14159791587'},\n",
      " 'placekey': {0: '224-222@5vg-7gv-d7q'},\n",
      " 'postal_code': {0: '94107'},\n",
      " 'street_address': {0: '710 3rd St'}}\n"
     ]
    }
   ],
   "source": [
    "# FIG 3D: Check our work\n",
    "\n",
    "location_name = 'Taco Bell'\n",
    "street_address = '710 3rd St'\n",
    "city = 'San Francisco'\n",
    "region = 'CA'\n",
    "iso_country_code = 'US'\n",
    "\n",
    "cols = [\n",
    "    'location_name',\n",
    "    'street_address',\n",
    "    'postal_code',\n",
    "    'phone_number',\n",
    "    'category_tags'\n",
    "]\n",
    "\n",
    "r = SAFEGRAPH_CLIENT.lookup_by_name(\n",
    "    product = 'core', \n",
    "    location_name = location_name,\n",
    "    street_address = street_address,\n",
    "    city = city,\n",
    "    region = region,\n",
    "    iso_country_code = iso_country_code,\n",
    "    columns = cols\n",
    ")\n",
    "\n",
    "pprint(r.to_dict())"
   ]
  }
 ],
 "metadata": {
  "kernelspec": {
   "display_name": "Python 3 (ipykernel)",
   "language": "python",
   "name": "python3"
  },
  "language_info": {
   "codemirror_mode": {
    "name": "ipython",
    "version": 3
   },
   "file_extension": ".py",
   "mimetype": "text/x-python",
   "name": "python",
   "nbconvert_exporter": "python",
   "pygments_lexer": "ipython3",
   "version": "3.9.6"
  }
 },
 "nbformat": 4,
 "nbformat_minor": 5
}
